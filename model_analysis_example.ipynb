{
 "cells": [
  {
   "cell_type": "markdown",
   "id": "featured-travel",
   "metadata": {},
   "source": [
    "# INITIAL SETUP"
   ]
  },
  {
   "cell_type": "code",
   "execution_count": null,
   "id": "mobile-bumper",
   "metadata": {},
   "outputs": [],
   "source": [
    "from math import pi\n",
    "import numpy as np\n",
    "\n",
    "# Oh yeah, it's all coming together...\n",
    "from CargoBikeModel import *\n",
    "from ModelAnalysisFunctions import *"
   ]
  },
  {
   "cell_type": "code",
   "execution_count": null,
   "id": "tamil-compact",
   "metadata": {},
   "outputs": [],
   "source": [
    "version = '45'                                  # Version control for the results\n",
    "bike_floor_height = np.arange(0.12, 0.28, 0.01) # Bike floor height range -> 0.15m to 0.27m, with 0.01m step\n",
    "cargo_space = np.arange(0.4, 1.55, 0.05)        # Cargo space range -> 0.5m to 1.5m, with 0.05m step\n",
    "steering_angle = np.arange(15, 30, 1)*pi/180    # Steering angle range -> 18° to 30°, with 1° step"
   ]
  },
  {
   "cell_type": "markdown",
   "id": "documented-dylan",
   "metadata": {},
   "source": [
    "# DEFINING PARAMETERS DICTIONARIES"
   ]
  },
  {
   "cell_type": "markdown",
   "id": "tough-satisfaction",
   "metadata": {},
   "source": [
    "### FRAME PARAMETERS"
   ]
  },
  {
   "cell_type": "code",
   "execution_count": null,
   "id": "convinced-indicator",
   "metadata": {},
   "outputs": [],
   "source": [
    "L = [                         # Frame's bars' lengths\n",
    "     0.45,                    # Bars 1-2\n",
    "     0.48,                    # Bars 1-3\n",
    "     0.43,                    # Bar 2-3\n",
    "     0.48,                    # Bar 2-4\n",
    "     0.00, # ////////////////// Bar 3-5 -> Tied to N3 and N5 (calculated by cbm function)\n",
    "     0.50,                    # Bar 4-5\n",
    "     cargo_space[0],          # Bar 4-6\n",
    "     0.00, # ////////////////// Bar 6-7 -> Tied to lam and w (calculated by cbm function)\n",
    "     0.35,                    # Bars 7-8\n",
    "     0.03  # ////////////////// Bars 8-9 -> Tied to trail    (used in get_trail)\n",
    "    ]\n",
    "W = [                         # Frame's bars' wall thicknesses\n",
    "     0.003,                   # Bars 1-2\n",
    "     0.003,                   # Bars 1-3\n",
    "     0.003,                   # Bar 2-3\n",
    "     0.003,                   # Bar 2-4\n",
    "     0.003,                   # Bar 3-5\n",
    "     0.003,                   # Bar 4-5\n",
    "     0.003,                   # Bar 4-6\n",
    "     0.003,                   # Bar 6-7\n",
    "     0.003,                   # Bars 7-8\n",
    "     0.003                    # Bars 8-9\n",
    "    ]\n",
    "R = [                         # Frame's bars' radiuses\n",
    "     merge_bars(0.015, W[0]), # Bars 1-2 -> Merged for the virtual model\n",
    "     merge_bars(0.014, W[1]), # Bars 1-3 -> Merged for the virtual model\n",
    "     0.019,                   # Bar 2-3\n",
    "     0.018,                   # Bar 2-4\n",
    "     0.018,                   # Bar 3-5\n",
    "     0.020,                   # Bar 4-5\n",
    "     0.018,                   # Bar 4-6\n",
    "     0.018,                   # Bar 6-7\n",
    "     merge_bars(0.012, W[8]), # Bars 7-8 -> Merged for the virtual model\n",
    "     merge_bars(0.012, W[9])  # Bars 8-9 -> Merged for the virtual model\n",
    "    ]\n",
    "\n",
    "r_RW = 0.28    # Rear wheel radius\n",
    "r_FW = 0.20    # Front wheel radius\n",
    "m_RW = 2.6 + 5 # Rear wheel mass + Electric motor mass\n",
    "m_FW = 2.0     # Front wheel mass\n",
    "\n",
    "h_RF = bike_floor_height[0]   # Rear frame height / Bike floor height\n",
    "\n",
    "lam = steering_angle[0]                      # Lambda / Steering angle\n",
    "c = get_trail(steering_angle[0], r_FW, L[9]) # Trail\n",
    "\n",
    "d_bw = 0.2*r_FW                                                    # Front wheel distance to the bar 6-7\n",
    "rear_length = get_rear_length(h_RF, r_RW, L[0], L[3])              # Horizontal distance between N1 and N4\n",
    "front_length = get_front_length(h_RF, lam, d_bw, r_FW, L[8], L[9]) # Horizontal distance between N4 and N9\n",
    "w = rear_length + cargo_space[0] + front_length                    # Wheelbase\n",
    "\n",
    "# Frame + Wheels dictionary\n",
    "frame_params = { \n",
    "    'rear_wheel_radius': r_RW,\n",
    "    'front_wheel_radius': r_FW,\n",
    "    'rear_frame_height': h_RF,\n",
    "    'wheelbase': w,\n",
    "    'steer_axis_tilt': lam,\n",
    "    'trail': c,\n",
    "    'bars_lengths': L,\n",
    "    'rear_wheel_mass': m_RW,\n",
    "    'front_wheel_mass': m_FW,\n",
    "    'material_density': 2.7e3, # Frame's material density (Al6061)\n",
    "    'bars_radiuses': R, \n",
    "    'bars_thicknesses': W,\n",
    "    'd_bw': d_bw\n",
    "}"
   ]
  },
  {
   "cell_type": "markdown",
   "id": "exempt-creator",
   "metadata": {},
   "source": [
    "### RIDER PARAMETERS"
   ]
  },
  {
   "cell_type": "code",
   "execution_count": null,
   "id": "plastic-norfolk",
   "metadata": {},
   "outputs": [],
   "source": [
    "height = 1.71\n",
    "weight = 72.7\n",
    "\n",
    "# For the body proportions, we're considering that a\n",
    "# standing human is as tall as 7.5 stacked human heads!\n",
    "head = height/7.5\n",
    "\n",
    "# Rider dictionary\n",
    "rider_params = {\n",
    "    'rider_name': 'Alexander',\n",
    "    'saddle_height': 0.15,\n",
    "    'handlebar_height': 0.15,\n",
    "    'lean_angle': 75*pi/180,   # How much the rider is leaning foward\n",
    "\n",
    "    'limbs_lengths': [\n",
    "        2*head,         # Shanks     (1-2)\n",
    "        2*head,         # Thighs     (2-3)\n",
    "        2.75*head,      # Torso      (3-4)\n",
    "        1.5*head,       # Upper arms (4-5)\n",
    "        1.5*head,       # Forearms   (5-6)\n",
    "        1*head          # Head       (4-7)\n",
    "    ],\n",
    "\n",
    "    # Mass distribuded using Yeadon's library documentation!\n",
    "    # https://yeadon.readthedocs.io/en/latest/\n",
    "    'limbs_masses': [\n",
    "        0.061*2*weight, # Shanks     (1-2)\n",
    "        0.100*2*weight, # Thighs     (2-3)\n",
    "        0.510*weight,   # Torso      (3-4)\n",
    "        0.028*2*weight, # Upper arms (4-5)\n",
    "        0.022*2*weight, # Forearms   (5-6)\n",
    "        0.068*weight    # Head       (4-7)\n",
    "    ] \n",
    "}"
   ]
  },
  {
   "cell_type": "markdown",
   "id": "norman-hacker",
   "metadata": {},
   "source": [
    "### CARGO PARAMETERS"
   ]
  },
  {
   "cell_type": "code",
   "execution_count": null,
   "id": "stock-humanitarian",
   "metadata": {},
   "outputs": [],
   "source": [
    "cargo_density = 167 # The cargo's density [kg/m^3]\n",
    "cargo_height = 0.5  # The cargo's vertical length in the z-axis\n",
    "cargo_width = 0.5   # The cargo's horizontal length in the y-axis\n",
    "\n",
    "# Cargo dictionary\n",
    "cargo_params = {\n",
    "    'cargo_height': cargo_height,\n",
    "    \n",
    "    # Function for the cargo's mass, in case it varies with the cargo space length\n",
    "    'mass_function': lambda cargo_length: cargo_density*cargo_height*cargo_width*cargo_length\n",
    "}\n",
    "\n",
    "# The cargo's mass is calculated with mass_function(cargo_length),\n",
    "# where cargo_length/cargo_space is the cargo's horizontal lenght in the x-axis\n",
    "cargo_params['cargo_mass'] = cargo_params['mass_function'](cargo_space[0])"
   ]
  },
  {
   "cell_type": "markdown",
   "id": "sporting-honor",
   "metadata": {},
   "source": [
    "# BICYCLE MODELS ITERATIONS"
   ]
  },
  {
   "cell_type": "markdown",
   "id": "standard-command",
   "metadata": {},
   "source": [
    "### SETUP 1"
   ]
  },
  {
   "cell_type": "code",
   "execution_count": null,
   "id": "adverse-enzyme",
   "metadata": {},
   "outputs": [],
   "source": [
    "# System parameters for the setup 1\n",
    "system_params = {'frame': frame_params,\n",
    "                 'rider': rider_params}\n",
    "\n",
    "results_setup1 = simulate_bikes(system_params, bike_floor_height, cargo_space, steering_angle)\n",
    "save_results(results_setup1, 'ar_' + version + 'setup1')"
   ]
  },
  {
   "cell_type": "markdown",
   "id": "better-second",
   "metadata": {},
   "source": [
    "### SETUP 2"
   ]
  },
  {
   "cell_type": "code",
   "execution_count": null,
   "id": "prospective-conflict",
   "metadata": {},
   "outputs": [],
   "source": [
    "# System parameters for the setup 2\n",
    "cargo_params['mass_function'] = lambda cargo_length: cargo_density*cargo_height*cargo_width*cargo_length\n",
    "system_params = {'frame': frame_params,\n",
    "                 'rider': rider_params,\n",
    "                 'cargo': cargo_params}\n",
    "\n",
    "results_setup2 = simulate_bikes(system_params, bike_floor_height, cargo_space, steering_angle)\n",
    "save_results(results_setup2, 'ar_' + version + 'setup2')"
   ]
  },
  {
   "cell_type": "markdown",
   "id": "intellectual-decision",
   "metadata": {},
   "source": [
    "### SETUP 3"
   ]
  },
  {
   "cell_type": "code",
   "execution_count": null,
   "id": "concerned-colors",
   "metadata": {},
   "outputs": [],
   "source": [
    "# System parameters for the setup 3\n",
    "cargo_params['mass_function'] = lambda cargo_length: 40\n",
    "system_params = {'frame': frame_params,\n",
    "                 'rider': rider_params,\n",
    "                 'cargo': cargo_params}\n",
    "\n",
    "results_setup3 = simulate_bikes(system_params, bike_floor_height, cargo_space, steering_angle)\n",
    "save_results(results_setup3, 'ar_' + version + 'setup3')"
   ]
  },
  {
   "cell_type": "markdown",
   "id": "lovely-athletics",
   "metadata": {},
   "source": [
    "# BIKE SANDBOX\n",
    "\n",
    "To test and visualize different parameters for the bike"
   ]
  },
  {
   "cell_type": "code",
   "execution_count": null,
   "id": "extraordinary-testing",
   "metadata": {},
   "outputs": [],
   "source": [
    "# Parameters to change:\n",
    "L[9] = 0.03\n",
    "h_RF = 0.15\n",
    "L[6] = 0.70\n",
    "lam = 16*pi/180\n",
    "cargo_params['cargo_height'] = 0.5\n",
    "cargo_params['mass_function'] = lambda cargo_length: cargo_density*cargo_height*cargo_width*cargo_length\n",
    "\n",
    "# Updates dictionaries with new parameters\n",
    "rear_length = get_rear_length(h_RF, r_RW, L[0], L[3])\n",
    "front_length = get_front_length(h_RF, lam, 0.2*r_FW, r_FW, L[8], L[9])\n",
    "frame_params['rear_frame_height'] = h_RF\n",
    "frame_params['bars_lengths'][6] = L[6]\n",
    "frame_params['wheelbase'] = rear_length + L[6] + front_length\n",
    "frame_params['steer_axis_tilt'] = lam\n",
    "frame_params['trail'] = get_trail(lam, r_FW, L[9])\n",
    "cargo_params['cargo_mass'] = cargo_params['mass_function'](L[6])\n",
    "\n",
    "# Creates bike object\n",
    "cargo_bike = CargoBike('Cargo', {'frame': frame_params, # })\n",
    "                                 'rider': rider_params, # })\n",
    "                                 'cargo': cargo_params})\n",
    "\n",
    "# Shows bike geometry\n",
    "figure = cargo_bike.show()"
   ]
  },
  {
   "cell_type": "code",
   "execution_count": null,
   "id": "bearing-locking",
   "metadata": {},
   "outputs": [],
   "source": [
    "# Creates a figure for the graph\n",
    "figure = plt.figure(figsize=(16, 8)) # Adjustable window size\n",
    "plt.xlim(0, 15)                      # Adjustable horizontal view\n",
    "plt.ylim(-5, 5)                      # Adjustable vertical view\n",
    "\n",
    "# Plots the eigenvalues vs speed graph of the bike\n",
    "# Method inherited from the class Bicycles, from the package BicycleParameters!\n",
    "# https://pythonhosted.org/BicycleParameters/index.html#\n",
    "cargo_bike.plot_eigenvalues_vs_speed(np.linspace(0., 48., num=100), fig=figure)\n",
    "\n",
    "plt.show()\n",
    "\n",
    "# Prints the speed values within the stable speed range\n",
    "print('We found these speeds withing the stable speed range:')\n",
    "print(get_stable_speeds(cargo_bike))"
   ]
  },
  {
   "cell_type": "code",
   "execution_count": null,
   "id": "ecological-government",
   "metadata": {},
   "outputs": [],
   "source": [
    "# Saves a dictionary to a .json file\n",
    "save_parameters(frame_params, 'frame_dict')"
   ]
  }
 ],
 "metadata": {
  "kernelspec": {
   "display_name": "Python 3",
   "language": "python",
   "name": "python3"
  },
  "language_info": {
   "codemirror_mode": {
    "name": "ipython",
    "version": 3
   },
   "file_extension": ".py",
   "mimetype": "text/x-python",
   "name": "python",
   "nbconvert_exporter": "python",
   "pygments_lexer": "ipython3",
   "version": "3.9.1"
  }
 },
 "nbformat": 4,
 "nbformat_minor": 5
}
